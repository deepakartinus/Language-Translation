{
 "cells": [
  {
   "cell_type": "code",
   "execution_count": 73,
   "id": "d7fd38ce",
   "metadata": {},
   "outputs": [],
   "source": [
    "#!pip install datasets transformers[sentencepiece]\n",
    "#!pip install ipywidgets\n",
    "#!pip install sklearn"
   ]
  },
  {
   "cell_type": "markdown",
   "id": "d32b0799",
   "metadata": {},
   "source": [
    "# *Preprocessing*"
   ]
  },
  {
   "cell_type": "markdown",
   "id": "6a28771d",
   "metadata": {},
   "source": [
    "Load the dataset named 'common_language' with the help of load_dataset() function. "
   ]
  },
  {
   "cell_type": "code",
   "execution_count": 74,
   "id": "f71231b6",
   "metadata": {},
   "outputs": [],
   "source": [
    "from datasets import load_dataset\n",
    "from transformers import AutoTokenizer\n",
    "\n",
    "# checkpoint used in preprocessing and modelling\n",
    "checkpoint = 'xlm-roberta-base'\n",
    "\n",
    "# dataset used\n",
    "dataset_name = 'common_language' #'amazon_reviews_multi'\n",
    "\n",
    "# cache dirs\n",
    "# CACHE_DATASETS = './cache/datasets/'\n",
    "# CACHE_PRETRAINED = './cache/pretrained/'"
   ]
  },
  {
   "cell_type": "code",
   "execution_count": 75,
   "id": "8ed2b684",
   "metadata": {},
   "outputs": [],
   "source": [
    " #conda install -c conda-forge pysoundfile "
   ]
  },
  {
   "cell_type": "code",
   "execution_count": 76,
   "id": "dd42e22c",
   "metadata": {},
   "outputs": [
    {
     "name": "stderr",
     "output_type": "stream",
     "text": [
      "Found cached dataset common_language (C:/Users/Deepak/.cache/huggingface/datasets/common_language/full/0.1.0/b27a81451e46e5e822b34bc81f15dfc4b70a94c78749fd8663068a580339ea42)\n"
     ]
    },
    {
     "data": {
      "application/vnd.jupyter.widget-view+json": {
       "model_id": "96781cd6442a4d6faa8967ffac2fab3f",
       "version_major": 2,
       "version_minor": 0
      },
      "text/plain": [
       "  0%|          | 0/3 [00:00<?, ?it/s]"
      ]
     },
     "metadata": {},
     "output_type": "display_data"
    },
    {
     "name": "stdout",
     "output_type": "stream",
     "text": [
      "DatasetDict({\n",
      "    train: Dataset({\n",
      "        features: ['client_id', 'path', 'audio', 'sentence', 'age', 'gender', 'language'],\n",
      "        num_rows: 22194\n",
      "    })\n",
      "    validation: Dataset({\n",
      "        features: ['client_id', 'path', 'audio', 'sentence', 'age', 'gender', 'language'],\n",
      "        num_rows: 5888\n",
      "    })\n",
      "    test: Dataset({\n",
      "        features: ['client_id', 'path', 'audio', 'sentence', 'age', 'gender', 'language'],\n",
      "        num_rows: 5963\n",
      "    })\n",
      "})\n"
     ]
    }
   ],
   "source": [
    "# load dataset\n",
    "# train_dataset, test_dataset = load_dataset(dataset_name, \n",
    "# #                                            \"all_languages\", \n",
    "#                                            split=['train', 'test'], \n",
    "# #                                            cache_dir=CACHE_DATASETS\n",
    "# #                                            download_mode=\"force_redownload\"\n",
    "#                                           )\n",
    "# print(train_dataset)\n",
    "# print(test_dataset)\n",
    "\n",
    "\n",
    "dataset = load_dataset(dataset_name)\n",
    "print(dataset)"
   ]
  },
  {
   "cell_type": "code",
   "execution_count": 77,
   "id": "a643e19d",
   "metadata": {},
   "outputs": [
    {
     "name": "stdout",
     "output_type": "stream",
     "text": [
      "Dataset({\n",
      "    features: ['client_id', 'path', 'audio', 'sentence', 'age', 'gender', 'language'],\n",
      "    num_rows: 22194\n",
      "})\n",
      "Dataset({\n",
      "    features: ['client_id', 'path', 'audio', 'sentence', 'age', 'gender', 'language'],\n",
      "    num_rows: 5963\n",
      "})\n"
     ]
    }
   ],
   "source": [
    "train_dataset = dataset['train']\n",
    "test_dataset = dataset['test']\n",
    "print(train_dataset)\n",
    "print(test_dataset)"
   ]
  },
  {
   "cell_type": "code",
   "execution_count": 78,
   "id": "5c1a2851",
   "metadata": {},
   "outputs": [],
   "source": [
    "#pip install librosa"
   ]
  },
  {
   "cell_type": "code",
   "execution_count": 79,
   "id": "7d4d02c2",
   "metadata": {},
   "outputs": [
    {
     "data": {
      "text/plain": [
       "{'client_id': 'ara_trn_sp_12',\n",
       " 'path': 'C:/Users/Deepak/.cache/huggingface/datasets/downloads/extracted/f0a00eebba52ef054ccd0c7ed721f1351399293ff030218da392cb047d874bed/common_voice_kpd/Arabic/train/ara_trn_sp_12/common_voice_ar_20401372.wav',\n",
       " 'audio': {'path': 'C:/Users/Deepak/.cache/huggingface/datasets/downloads/extracted/f0a00eebba52ef054ccd0c7ed721f1351399293ff030218da392cb047d874bed/common_voice_kpd/Arabic/train/ara_trn_sp_12/common_voice_ar_20401372.wav',\n",
       "  'array': array([0.00000000e+00, 0.00000000e+00, 0.00000000e+00, ...,\n",
       "         2.66671705e-05, 2.05863598e-05, 1.20680525e-05], dtype=float32),\n",
       "  'sampling_rate': 48000},\n",
       " 'sentence': 'عليك أن تفي بوعدك.',\n",
       " 'age': 'twenties',\n",
       " 'gender': 'male',\n",
       " 'language': 0}"
      ]
     },
     "execution_count": 79,
     "metadata": {},
     "output_type": "execute_result"
    }
   ],
   "source": [
    "train_dataset[0]#['sentence','language']"
   ]
  },
  {
   "cell_type": "code",
   "execution_count": 80,
   "id": "3d1358f3",
   "metadata": {},
   "outputs": [
    {
     "data": {
      "text/plain": [
       "{'sentence': 'عليك أن تفي بوعدك.', 'language': 0}"
      ]
     },
     "execution_count": 80,
     "metadata": {},
     "output_type": "execute_result"
    }
   ],
   "source": [
    "new_dict_you_want = {key: train_dataset[0][key] for key in ('sentence','language')}\n",
    "new_dict_you_want"
   ]
  },
  {
   "cell_type": "code",
   "execution_count": 81,
   "id": "d03ff2ab",
   "metadata": {},
   "outputs": [
    {
     "data": {
      "application/vnd.jupyter.widget-view+json": {
       "model_id": "90f25ae185fb43e2b8a3e8c32a3b2462",
       "version_major": 2,
       "version_minor": 0
      },
      "text/plain": [
       "  0%|          | 0/23 [00:00<?, ?ba/s]"
      ]
     },
     "metadata": {},
     "output_type": "display_data"
    },
    {
     "data": {
      "application/vnd.jupyter.widget-view+json": {
       "model_id": "4ce420a06a3e47ecb5e0436a22e6713e",
       "version_major": 2,
       "version_minor": 0
      },
      "text/plain": [
       "  0%|          | 0/6 [00:00<?, ?ba/s]"
      ]
     },
     "metadata": {},
     "output_type": "display_data"
    },
    {
     "name": "stdout",
     "output_type": "stream",
     "text": [
      "Dataset({\n",
      "    features: ['labels', 'input_ids', 'attention_mask'],\n",
      "    num_rows: 22194\n",
      "})\n",
      "Dataset({\n",
      "    features: ['labels', 'input_ids', 'attention_mask'],\n",
      "    num_rows: 5963\n",
      "})\n"
     ]
    }
   ],
   "source": [
    "max_input_length = 514\n",
    "\n",
    "# shuffle dataset\n",
    "train_dataset = train_dataset.shuffle()\n",
    "test_dataset = test_dataset.shuffle()\n",
    "\n",
    "# tokenizer\n",
    "tokenizer = AutoTokenizer.from_pretrained(checkpoint,\n",
    "#                                           cache_dir=CACHE_PRETRAINED\n",
    "                                         )\n",
    "\n",
    "# tokenizer helper function\n",
    "def tokenize(batch):\n",
    "#     return tokenizer(batch['review_body'], truncation=True, max_length=max_input_length)\n",
    "    return tokenizer(batch['sentence'], truncation=True, max_length=max_input_length)\n",
    "\n",
    "# collator\n",
    "from transformers import DataCollatorWithPadding\n",
    "data_collator = DataCollatorWithPadding(tokenizer=tokenizer)\n",
    "\n",
    "# tokenize dataset\n",
    "train_dataset = train_dataset.map(tokenize, batched=True)\n",
    "test_dataset = test_dataset.map(tokenize, batched=True)\n",
    "\n",
    "train_dataset = train_dataset.remove_columns(['client_id','path', 'sentence', 'age', 'gender', 'audio'])\n",
    "train_dataset =  train_dataset.rename_column(\"language\", \"labels\")\n",
    "train_dataset.set_format('torch', columns=['input_ids', 'attention_mask', 'labels'])\n",
    "test_dataset = test_dataset.remove_columns(['client_id','path', 'sentence', 'age', 'gender', 'audio'])\n",
    "test_dataset =  test_dataset.rename_column(\"language\", \"labels\")\n",
    "test_dataset.set_format('torch', columns=['input_ids', 'attention_mask', 'labels'])\n",
    "\n",
    "print(train_dataset)\n",
    "print(test_dataset)"
   ]
  },
  {
   "cell_type": "code",
   "execution_count": 82,
   "id": "66c9daa3",
   "metadata": {},
   "outputs": [],
   "source": [
    "# tokenizer\n",
    "tokenizer = AutoTokenizer.from_pretrained(checkpoint,\n",
    "#                                           cache_dir=CACHE_PRETRAINED\n",
    "                                         )\n",
    "\n",
    "# tokenizer helper function\n",
    "def tokenize(batch):\n",
    "#     return tokenizer(batch['review_body'], truncation=True, max_length=max_input_length)\n",
    "    return tokenizer(batch['sentence'], truncation=True, max_length=max_input_length)\n",
    "\n",
    "# collator\n",
    "from transformers import DataCollatorWithPadding\n",
    "data_collator = DataCollatorWithPadding(tokenizer=tokenizer)"
   ]
  },
  {
   "cell_type": "code",
   "execution_count": 83,
   "id": "67c47e91",
   "metadata": {},
   "outputs": [],
   "source": [
    "# save datasets to datasets folder\n",
    "\n",
    "training_input_path = f'dataset/train'\n",
    "train_dataset.save_to_disk(training_input_path)\n",
    "\n",
    "test_input_path = f'dataset/test'\n",
    "test_dataset.save_to_disk(test_input_path)"
   ]
  },
  {
   "cell_type": "markdown",
   "id": "7b4d2ecd",
   "metadata": {},
   "source": [
    "# Training"
   ]
  },
  {
   "cell_type": "code",
   "execution_count": 84,
   "id": "30ed18a7",
   "metadata": {},
   "outputs": [],
   "source": [
    "import numpy as np\n",
    "from datasets import load_from_disk, load_metric\n",
    "from transformers import AutoModelForSequenceClassification\n",
    "from transformers import  Trainer, TrainingArguments\n",
    "from transformers.trainer_utils import get_last_checkpoint"
   ]
  },
  {
   "cell_type": "code",
   "execution_count": 85,
   "id": "cc6f0598",
   "metadata": {},
   "outputs": [],
   "source": [
    "# hub model id\n",
    "hub_model_id = f'language-detection-fine-tuned-on-{checkpoint}'"
   ]
  },
  {
   "cell_type": "code",
   "execution_count": 86,
   "id": "d85f73d4",
   "metadata": {},
   "outputs": [
    {
     "name": "stdout",
     "output_type": "stream",
     "text": [
      "loaded train_dataset length is: 22194\n",
      "loaded test_dataset length is: 5963\n"
     ]
    }
   ],
   "source": [
    " # load datasets\n",
    "train_dataset = load_from_disk(training_input_path)\n",
    "test_dataset = load_from_disk(test_input_path)\n",
    "\n",
    "print(f\"loaded train_dataset length is: {len(train_dataset)}\")\n",
    "print(f\"loaded test_dataset length is: {len(test_dataset)}\")\n",
    "\n",
    "# define metrics and metrics function\n",
    "metric = load_metric(\"accuracy\")\n",
    "\n",
    "def compute_metrics(eval_pred):\n",
    "    predictions, labels = eval_pred\n",
    "    predictions = np.argmax(predictions, axis=1)\n",
    "    return metric.compute(predictions=predictions, references=labels)\n",
    "\n",
    "# Prepare model labels - useful in inference API\n",
    "labels = train_dataset.features[\"labels\"].names\n",
    "num_labels = len(labels)\n",
    "label2id, id2label = dict(), dict()\n",
    "for i, label in enumerate(labels):\n",
    "    label2id[label] = str(i)\n",
    "    id2label[str(i)] = label"
   ]
  },
  {
   "cell_type": "code",
   "execution_count": 87,
   "id": "35085baa",
   "metadata": {},
   "outputs": [
    {
     "data": {
      "text/plain": [
       "{'labels': ClassLabel(names=['Arabic', 'Basque', 'Breton', 'Catalan', 'Chinese_China', 'Chinese_Hongkong', 'Chinese_Taiwan', 'Chuvash', 'Czech', 'Dhivehi', 'Dutch', 'English', 'Esperanto', 'Estonian', 'French', 'Frisian', 'Georgian', 'German', 'Greek', 'Hakha_Chin', 'Indonesian', 'Interlingua', 'Italian', 'Japanese', 'Kabyle', 'Kinyarwanda', 'Kyrgyz', 'Latvian', 'Maltese', 'Mangolian', 'Persian', 'Polish', 'Portuguese', 'Romanian', 'Romansh_Sursilvan', 'Russian', 'Sakha', 'Slovenian', 'Spanish', 'Swedish', 'Tamil', 'Tatar', 'Turkish', 'Ukranian', 'Welsh'], id=None),\n",
       " 'input_ids': Sequence(feature=Value(dtype='int32', id=None), length=-1, id=None),\n",
       " 'attention_mask': Sequence(feature=Value(dtype='int8', id=None), length=-1, id=None)}"
      ]
     },
     "execution_count": 87,
     "metadata": {},
     "output_type": "execute_result"
    }
   ],
   "source": [
    "train_dataset.features"
   ]
  },
  {
   "cell_type": "code",
   "execution_count": 88,
   "id": "467dd2bb",
   "metadata": {},
   "outputs": [
    {
     "name": "stderr",
     "output_type": "stream",
     "text": [
      "Some weights of the model checkpoint at xlm-roberta-base were not used when initializing XLMRobertaForSequenceClassification: ['lm_head.layer_norm.weight', 'lm_head.layer_norm.bias', 'lm_head.decoder.weight', 'roberta.pooler.dense.weight', 'lm_head.bias', 'roberta.pooler.dense.bias', 'lm_head.dense.weight', 'lm_head.dense.bias']\n",
      "- This IS expected if you are initializing XLMRobertaForSequenceClassification from the checkpoint of a model trained on another task or with another architecture (e.g. initializing a BertForSequenceClassification model from a BertForPreTraining model).\n",
      "- This IS NOT expected if you are initializing XLMRobertaForSequenceClassification from the checkpoint of a model that you expect to be exactly identical (initializing a BertForSequenceClassification model from a BertForSequenceClassification model).\n",
      "Some weights of XLMRobertaForSequenceClassification were not initialized from the model checkpoint at xlm-roberta-base and are newly initialized: ['classifier.dense.bias', 'classifier.dense.weight', 'classifier.out_proj.bias', 'classifier.out_proj.weight']\n",
      "You should probably TRAIN this model on a down-stream task to be able to use it for predictions and inference.\n"
     ]
    }
   ],
   "source": [
    "# download model from model hub\n",
    "model = AutoModelForSequenceClassification.from_pretrained(\n",
    "    checkpoint, \n",
    "    num_labels=num_labels, \n",
    "    label2id=label2id, \n",
    "    id2label=id2label,\n",
    "#     cache_dir=CACHE_PRETRAINED\n",
    ")\n",
    "# tokenizer = AutoTokenizer.from_pretrained(checkpoint)"
   ]
  },
  {
   "cell_type": "markdown",
   "id": "a0ecf627",
   "metadata": {},
   "source": [
    "# Saving the model"
   ]
  },
  {
   "cell_type": "code",
   "execution_count": 89,
   "id": "a572508d",
   "metadata": {},
   "outputs": [],
   "source": [
    "pt_save_directory = \"C:/Users/Deepak/Desktop/Trained_Models/XLM-Roberta-Fine-Tuned\""
   ]
  },
  {
   "cell_type": "code",
   "execution_count": 90,
   "id": "d2139a7a",
   "metadata": {},
   "outputs": [],
   "source": [
    "tokenizer.save_pretrained(\"C:/Users/Deepak/Desktop/Trained_Models/XLM-Roberta-Fine-Tuned\")\n",
    "model.save_pretrained(\"C:/Users/Deepak/Desktop/Trained_Models/XLM-Roberta-Fine-Tuned\")"
   ]
  },
  {
   "cell_type": "markdown",
   "id": "56351dca",
   "metadata": {},
   "source": [
    "# Invoke pretrained model from the directory"
   ]
  },
  {
   "cell_type": "code",
   "execution_count": 91,
   "id": "3816771e",
   "metadata": {},
   "outputs": [],
   "source": [
    "from transformers import pipeline, AutoTokenizer, AutoModelForSequenceClassification\n",
    "\n",
    "model = AutoModelForSequenceClassification.from_pretrained(\"C:/Users/Deepak/Desktop/Trained_Models/XLM-Roberta-Fine-Tuned\")\n",
    "tokenizer = AutoTokenizer.from_pretrained(\"C:/Users/Deepak/Desktop/Trained_Models/XLM-Roberta-Fine-Tuned\")"
   ]
  },
  {
   "cell_type": "code",
   "execution_count": 92,
   "id": "699ed01a",
   "metadata": {},
   "outputs": [],
   "source": [
    "classifier = pipeline(\"sentiment-analysis\", model=model, tokenizer=tokenizer)"
   ]
  },
  {
   "cell_type": "code",
   "execution_count": 93,
   "id": "d30d74e0",
   "metadata": {},
   "outputs": [
    {
     "data": {
      "text/plain": [
       "[{'label': 'Dhivehi', 'score': 0.029579907655715942}]"
      ]
     },
     "execution_count": 93,
     "metadata": {},
     "output_type": "execute_result"
    }
   ],
   "source": [
    "classifier(\"Nous sommes très heureux de vous présenter la bibliothèque Transformers.\")"
   ]
  },
  {
   "cell_type": "code",
   "execution_count": 94,
   "id": "5919d615",
   "metadata": {},
   "outputs": [
    {
     "data": {
      "text/plain": [
       "[{'label': 'Dhivehi', 'score': 0.029410764575004578}]"
      ]
     },
     "execution_count": 94,
     "metadata": {},
     "output_type": "execute_result"
    }
   ],
   "source": [
    "classifier(\"I am Deepak\")"
   ]
  },
  {
   "cell_type": "code",
   "execution_count": 95,
   "id": "4358d6e1",
   "metadata": {},
   "outputs": [],
   "source": [
    "from transformers import AutoTokenizer, AutoModelForSequenceClassification, TextClassificationPipeline\n",
    "\n",
    "tokenizer = AutoTokenizer.from_pretrained(\"C:/Users/Deepak/Desktop/Trained_Models/XLM-Roberta-Fine-Tuned\")\n",
    "model = AutoModelForSequenceClassification.from_pretrained(\"C:/Users/Deepak/Desktop/Trained_Models/XLM-Roberta-Fine-Tuned\")\n",
    "\n",
    "classifier = TextClassificationPipeline(model=model, tokenizer=tokenizer)"
   ]
  },
  {
   "cell_type": "code",
   "execution_count": 96,
   "id": "e21b8866",
   "metadata": {},
   "outputs": [
    {
     "name": "stdout",
     "output_type": "stream",
     "text": [
      "[{'label': 'Dhivehi', 'score': 0.029410764575004578}]\n"
     ]
    }
   ],
   "source": [
    "res = classifier(\"I am Deepak\")\n",
    "print(res)"
   ]
  },
  {
   "cell_type": "code",
   "execution_count": null,
   "id": "cc4cef25",
   "metadata": {},
   "outputs": [],
   "source": []
  }
 ],
 "metadata": {
  "kernelspec": {
   "display_name": "Python 3 (ipykernel)",
   "language": "python",
   "name": "python3"
  },
  "language_info": {
   "codemirror_mode": {
    "name": "ipython",
    "version": 3
   },
   "file_extension": ".py",
   "mimetype": "text/x-python",
   "name": "python",
   "nbconvert_exporter": "python",
   "pygments_lexer": "ipython3",
   "version": "3.9.15"
  }
 },
 "nbformat": 4,
 "nbformat_minor": 5
}
